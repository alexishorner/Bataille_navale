{
 "cells": [
  {
   "cell_type": "markdown",
   "metadata": {},
   "source": [
    "# Journal de bord bataille navale\n",
    "## Modélisation des bateaux\n",
    "Une classe `AbstractBateau` définit tous les bateaux indépendamment de leur type. Chaque type de bateau est décrit par sa propre classe héritant d'`AbstractBateau`.\n",
    "\n",
    "## Interaction avec l'utilisateur\n",
    "L'utilisateur possède deux moyens d'entrer la case sur laquelle il veut tirer :\n",
    "- Entrer les coordonnées de la case dans la console\n",
    "- Cliquer sur la case désirée (seulement dans la fenêtre de la tortue)\n",
    "\n",
    "## Cases\n",
    "Chaque case est une instance de la classe `Case`. Elles possèdent chacune une position et un état et peuvent appartenir à un bateau. La position est la position du coin inférieur gauche de la case dans le système de coordonnées de la tortue. \n",
    "L'état est une valeur entre 0 et 5 dont la signification est décrite par l'énumération `Etat` :\n",
    "- `Etat.VIDE` décrit les cases blanches et n'appartenant à aucun bateau\n",
    "- `Etat.BATEAU_INTACT` signifie que la case est blanche mais appartient à un bateau\n",
    "- `Etat.DANS_L_EAU` veut dire que l'utilisateur a tiré un coup dans l'eau sur la case\n",
    "- `Etat.TOUCHE` signifie que le joueur a tiré sur la case et qu'un bateau s'y trouvait, mais que ce bateau n'est pas coulé\n",
    "- `Etat.COULE` décrit les cases appartenant à un bateau coulé\n",
    "\n",
    "## Grille de jeu\n",
    "La grille est décrite par la classe `Grille` qui stocke une liste d'instances de la classe `Case`. La taille de la grille est facilement modifiable dans le code, ce qui signifie qu'avec quelques ajouts au programme, l'utilisateur pourrait choisir les dimensions de la grille de jeu. Cette classe possède aussi des méthodes statiques permettant de convertir les coordonnées entre différents systèmes.\n",
    "\n",
    "## Vitesse de dessin\n",
    "Lors de notre première utilisation de la tortue dans le cadre du cours d'informatique, nous avons pu constater la lenteur de la tortue pour effectuer des images complexes, y compris en mettant sa vitesse au maximum. Il existe cependant un moyen efficace de résoudre ce problème, il suffit de désactiver le fraichissement automatique de l'écran en appelant `screen.tracer(0, 0)` sur la tortue. Le désavantage à cela est qu'il faut rafraîchir l'écran manuellement lorsque quelque chose a été dessiné, mais cela rend le rendu considérablement plus rapide.\n",
    "\n"
   ]
  }
 ],
 "metadata": {
  "kernelspec": {
   "display_name": "Python 2",
   "language": "python",
   "name": "python2"
  },
  "language_info": {
   "codemirror_mode": {
    "name": "ipython",
    "version": 2
   },
   "file_extension": ".py",
   "mimetype": "text/x-python",
   "name": "python",
   "nbconvert_exporter": "python",
   "pygments_lexer": "ipython2",
   "version": "2.7.14"
  }
 },
 "nbformat": 4,
 "nbformat_minor": 2
}
