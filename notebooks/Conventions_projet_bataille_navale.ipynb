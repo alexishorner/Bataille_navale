{
 "cells": [
  {
   "cell_type": "markdown",
   "metadata": {},
   "source": [
    "# Conventions de programmation pour les projets de groupe\n",
    "## Préambule\n",
    "Ce notebook a pour but de présenter quelques lignes directrices permettant une certaine homogénéité du code source écrit par différentes personnes et augmentant sa lisibilité. Les conventions présentées ci-dessous ne sont qu'une reformulation d'une partie de celles conseillées par PEP 8.\n",
    "## Nommage des objets\n",
    "Les noms des objets doivent être choisis pour rendre le code le plus compréhensible possible, ils doivent donc décrire au mieux, mais de manière concise, le rôle de l'objet en question. Les noms ne doivent jamais contenir de caractères autres que des chiffres, des lettres non-accentuées ou le caractère `_`. Il est déconseillé de nommer ses variables `O` ou `l`, car selon la police, ces noms peuvent ressembler aux nombres 0 et 1.\n",
    "### Variables et fonctions\n",
    "Les noms des variables et fonctions doivent être en minuscules. S'ils sont composés de plusieurs mots, ceux-ci sont séparés par le caractère `_`. Exemple : `exemple_de_variable`, `exemple_de_fonction(parametre1, parametre2)`\n",
    "### Constantes\n",
    "En python, les constantes ne sont que des variables l'on décide de ne pas changer la valeur. Afin de rendre clair que ces variables ne doivent pas être modifiées, il est courant d'écrire leur nom en lettres majuscules. Exemple : `EXEMPLE_DE_CONSTANTE`\n",
    "### Classes\n",
    "Les noms des classes sont composés de mots dont la première lettre est une majuscule. Exemple `ExempleDeClasse`\n",
    "\n",
    "## Docstrings\n",
    "Chaque définition de module, classe ou fonction doit contenir une docstring. Les docstrings devraient suivre les règles suivantes :\n",
    "1. La première ligne est une courte explication du rôle accompli par le module, la classe ou la fonction.\n",
    "2. La première ligne est séparée des autres lignes par une ligne vide.\n",
    "3. Chaque paramètre est décrit de la manière suivante : `:param` + espace + `nom_du_parametre` + `:` + espace + explication du paramètre.\n",
    "4. Le retour de la fonction est décrit de la manière suivante: `:return:` + espace + explication du retour de la fonction.\n",
    "\n",
    "## Bonnes pratiques\n",
    "### Utiliser des `TODO`s\n",
    "Quand le développement d'une partie du code doit être interrompu en plein milieu pour une quelconque raison, il est avisé de placer un commentaire décrivant brièvement ce qu'il reste à faire pour cette partie à l'endroit de l'interruption. Par convention, ce commentaire commence par `TODO`(à faire). Il est très fortement conseillé d'écrire `TODO` et non `AFAIRE`, car certains IDEs tels que PyCharm reconnaissent ce mot-clé et colorent différemment les commentaires le contenant."
   ]
  },
  {
   "cell_type": "code",
   "execution_count": null,
   "metadata": {},
   "outputs": [],
   "source": []
  }
 ],
 "metadata": {
  "kernelspec": {
   "display_name": "Python 3",
   "language": "python",
   "name": "python3"
  },
  "language_info": {
   "codemirror_mode": {
    "name": "ipython",
    "version": 3
   },
   "file_extension": ".py",
   "mimetype": "text/x-python",
   "name": "python",
   "nbconvert_exporter": "python",
   "pygments_lexer": "ipython3",
   "version": "3.7.0"
  }
 },
 "nbformat": 4,
 "nbformat_minor": 2
}
